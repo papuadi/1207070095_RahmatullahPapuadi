{
 "cells": [
  {
   "cell_type": "code",
   "execution_count": 15,
   "metadata": {},
   "outputs": [
    {
     "name": "stdout",
     "output_type": "stream",
     "text": [
      "[[0.04 0.04 0.04 0.04 0.04]\n",
      " [0.04 0.04 0.04 0.04 0.04]\n",
      " [0.04 0.04 0.04 0.04 0.04]\n",
      " [0.04 0.04 0.04 0.04 0.04]\n",
      " [0.04 0.04 0.04 0.04 0.04]]\n"
     ]
    }
   ],
   "source": [
    "# 1. Low Pass Filtering\n",
    "# memanggil modul yang diperlukan\n",
    "import cv2\n",
    "import numpy as np\n",
    "from matplotlib import pyplot as plt\n",
    "\n",
    "#bgr\n",
    "img = cv2.imread('cat.png',0)\n",
    "# membuat filter: matriks berukuran 5 x 5 \n",
    "\n",
    "kernel = np.ones((5,5),np.float32)/25\n",
    "print(kernel)\n",
    "\n",
    "# lakukan filtering\n",
    "img_lpf = cv2.filter2D(img,-1,kernel)\n",
    "\n",
    "# menerapkan algoritma high-pass filtering:\n",
    "\n",
    "# laplacian\n",
    "laplacian = cv2.Laplacian(img,cv2.CV_64F)\n",
    "\n",
    "# sobel dengan ukuran kernel 5\n",
    "sobelx = cv2.Sobel(img, cv2.CV_64F, 1, 0, ksize=5)\n",
    "sobely = cv2.Sobel(img, cv2.CV_64F, 0, 1, ksize=5)\n",
    "\n",
    "\n",
    "# Lakukan Thresholding\n",
    "\n",
    "# Binary Threshold\n",
    "ret,th1 = cv2.threshold(img,150,255,cv2.THRESH_BINARY)\n",
    "\n",
    "# Adaptive Threshold dengan Mean\n",
    "th2 = cv2.adaptiveThreshold(img,255,cv2.ADAPTIVE_THRESH_MEAN_C,\\\n",
    "            cv2.THRESH_BINARY,11,2)\n",
    "\n",
    "# Adaptive Threshold dengan Gaussian\n",
    "th3 = cv2.adaptiveThreshold(img,255,cv2.ADAPTIVE_THRESH_GAUSSIAN_C,\\\n",
    "            cv2.THRESH_BINARY,11,2)\n",
    "\n",
    "# Plotting\n",
    "plt.rcParams[\"figure.figsize\"] = (100,50)\n",
    "titles = ['Original', 'LPF', 'Laplacian', 'Sobel X', 'Sobel Y' , 'Global Thresholding (v = 150)',\n",
    "            'Adaptive Mean Thresholding', 'Adaptive Gaussian Thresholding']\n",
    "images = [img, img_lpf, laplacian, sobelx, sobely,th1, th2, th3]\n",
    "\n",
    "# menampilkan hasil\n",
    "for i in range(8):\n",
    "\n",
    "    plt.subplot(2,8 , i+1) # Membuat subplot di baris pertama\n",
    "    plt.imshow(images[i], cmap='gray')  # Mengubah colormap menjadi gray untuk gambar grayscale\n",
    "    plt.title(titles[i])\n",
    "\n",
    "    plt.subplot(2, 8, i+9) # Membuat subplot di baris kedua \n",
    "    plt.hist(images[i].ravel(), 256, [0, 256]) \n",
    "    plt.title(titles[i] + ' Histogram') \n",
    "\n",
    "# Menampilkan hasil subplot dan histogram yg dibuat \n",
    "plt.show()\n"
   ]
  },
  {
   "cell_type": "code",
   "execution_count": null,
   "metadata": {},
   "outputs": [],
   "source": []
  }
 ],
 "metadata": {
  "kernelspec": {
   "display_name": "Python 3",
   "language": "python",
   "name": "python3"
  },
  "language_info": {
   "codemirror_mode": {
    "name": "ipython",
    "version": 3
   },
   "file_extension": ".py",
   "mimetype": "text/x-python",
   "name": "python",
   "nbconvert_exporter": "python",
   "pygments_lexer": "ipython3",
   "version": "3.10.10"
  },
  "orig_nbformat": 4
 },
 "nbformat": 4,
 "nbformat_minor": 2
}
